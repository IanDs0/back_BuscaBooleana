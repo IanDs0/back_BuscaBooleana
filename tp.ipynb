{
 "cells": [
  {
   "cell_type": "code",
   "execution_count": 6,
   "metadata": {
    "collapsed": true
   },
   "outputs": [],
   "source": [
    "from bs4 import BeautifulSoup\n",
    "from sklearn.feature_extraction.text import CountVectorizer\n",
    "from glob import glob\n",
    "\n",
    "import unidecode\n",
    "import re\n",
    "import json\n",
    "\n",
    "import matplotlib.pyplot as plt\n",
    "import numpy as np"
   ]
  },
  {
   "cell_type": "code",
   "execution_count": 7,
   "metadata": {
    "collapsed": false
   },
   "outputs": [],
   "source": [
    "def read_html(filename):\n",
    "    # leitura do html\n",
    "    with open(filename, encoding='iso-8859-1') as html_file:\n",
    "        html = html_file.read()\n",
    "    # parser com beautifulsoup\n",
    "    soup = BeautifulSoup(html)\n",
    "    # Buscar bloco de texto nos htmls\n",
    "    text_list = soup.find('body')#.findChildren('font')[2]\n",
    "    # extrair o texto de cada tag <p>\n",
    "    \n",
    "    text_list = [re.sub(r'[^\\w\\s]|([0-9]*\\,[0-9]+|[0-9]+)', '', \n",
    "    unidecode.unidecode(x.text)) for x in text_list if x.text]\n",
    "\n",
    "    return text_list"
   ]
  },
  {
   "cell_type": "code",
   "execution_count": 8,
   "metadata": {
    "collapsed": false
   },
   "outputs": [],
   "source": [
    "def count_words(text):\n",
    "    word_count = {}\n",
    "    # instanciação de biblioteca de contagem de palavras\n",
    "    vec = CountVectorizer()\n",
    "    # cria uma matriz de contagem de palavras por documentos\n",
    "    X = vec.fit_transform(text)\n",
    "    # extrai o vocabulário de todos os documentos\n",
    "    vocab = vec.get_feature_names_out()\n",
    "\n",
    "    # para cada palavra no covabulario extrai a soma de sua contagem em todos os documentos\n",
    "    for count, word in zip(X.sum(axis=0).tolist()[0], vocab):\n",
    "        word_count[word] = count\n",
    "\n",
    "    # Ordena o dicionário de palavras pela contagem\n",
    "    word_count = {k: v for k, v in sorted(word_count.items(), key=lambda item: item[1], reverse=True)}\n",
    "    return word_count\n"
   ]
  },
  {
   "cell_type": "code",
   "execution_count": 9,
   "metadata": {},
   "outputs": [],
   "source": [
    "text_list = []\n",
    "allPalavras = []\n",
    "nameArquivos = []\n",
    "for file in glob('./CRPC sub-corpus oral espontÉneo/*'):\n",
    "    nameArquivos.append(file)\n",
    "    if file.split('\\\\')[-1].startswith('pf'):\n",
    "        data = read_html(file)\n",
    "        contPalavra = count_words(data)\n",
    "        \n",
    "        allPalavras.extend(contPalavra)\n",
    "        text_list.append(contPalavra)"
   ]
  },
  {
   "cell_type": "code",
   "execution_count": 10,
   "metadata": {},
   "outputs": [],
   "source": [
    "allPalavras = sorted(set(allPalavras))\n",
    "allPalavras.pop(0)\n",
    "\n",
    "dict = {}\n",
    "\n",
    "for i in range(len(text_list)):\n",
    "    testa = []\n",
    "\n",
    "    for j in text_list[i].keys():\n",
    "        testa.append(j)\n",
    "\n",
    "    for item in allPalavras: \n",
    "        if item in testa:\n",
    "            # print(item)\n",
    "            if item not in dict: \n",
    "                dict[item] = []\n",
    "            if item in dict: \n",
    "                dict[item].append(i)"
   ]
  },
  {
   "cell_type": "code",
   "execution_count": 11,
   "metadata": {},
   "outputs": [],
   "source": [
    "with open('word_index.json', 'w') as jfile:\n",
    "    json.dump(dict, jfile, indent=4)"
   ]
  },
  {
   "cell_type": "code",
   "execution_count": 12,
   "metadata": {},
   "outputs": [],
   "source": [
    "def Busca(text):\n",
    "    aux = []\n",
    "    aux = dict[text]\n",
    "\n",
    "    return aux\n"
   ]
  },
  {
   "cell_type": "code",
   "execution_count": 13,
   "metadata": {},
   "outputs": [],
   "source": [
    "def Operadores(text):\n",
    "    \n",
    "    result = []\n",
    "\n",
    "\n",
    "    if text.find('+')>0:\n",
    "        perquisa = text.split(\"+\")\n",
    "\n",
    "        i=0\n",
    "\n",
    "        for palavra in perquisa:\n",
    "            if i !=0:\n",
    "                result = result.intersection(Busca(palavra))\n",
    "            else:\n",
    "                i=1\n",
    "                result = set(Busca(palavra))\n",
    "\n",
    "        return result\n",
    "\n",
    "    elif text.find('-')>0:\n",
    "        perquisa = text.split(\"-\")\n",
    "\n",
    "        i=0\n",
    "\n",
    "        for palavra in perquisa:\n",
    "            if i !=0:\n",
    "                result = result.difference(Busca(palavra))\n",
    "            else:\n",
    "                i=1\n",
    "                result = set(Busca(palavra))\n",
    "\n",
    "        return result\n",
    "\n",
    "    elif text.find('|')>0:\n",
    "\n",
    "        perquisa = text.split(\"|\")\n",
    "\n",
    "        for palavra in perquisa:\n",
    "            result.extend(Busca(palavra))\n",
    "            \n",
    "        return sorted(set(result))\n",
    "\n",
    "    else:\n",
    "\n",
    "        return [-1]"
   ]
  },
  {
   "cell_type": "code",
   "execution_count": 14,
   "metadata": {},
   "outputs": [
    {
     "data": {
      "text/plain": [
       "['./CRPC sub-corpus oral espontÉneo\\\\estilos.css',\n",
       " './CRPC sub-corpus oral espontÉneo\\\\pf0173pu.htm',\n",
       " './CRPC sub-corpus oral espontÉneo\\\\pf1020pu.htm',\n",
       " './CRPC sub-corpus oral espontÉneo\\\\pf0356pu.htm']"
      ]
     },
     "execution_count": 14,
     "metadata": {},
     "output_type": "execute_result"
    }
   ],
   "source": [
    "teste = \"acaba+agora\"\n",
    "res=Operadores(teste)\n",
    "res = list(res)\n",
    "res\n",
    "retorno = []\n",
    "for r in res:\n",
    "    retorno.append(nameArquivos[int(r)])\n",
    "retorno"
   ]
  },
  {
   "cell_type": "code",
   "execution_count": 15,
   "metadata": {},
   "outputs": [],
   "source": [
    "def Json (retorno):\n",
    "    retornando = retorno.split(\"\\\\\")\n",
    "    return{\n",
    "        \"nome\": retornando[-1],\n",
    "        \"diretorio\": retorno\n",
    "    }"
   ]
  },
  {
   "cell_type": "code",
   "execution_count": 19,
   "metadata": {},
   "outputs": [
    {
     "data": {
      "text/plain": [
       "[{'nome': 'estilos.css',\n",
       "  'diretorio': './CRPC sub-corpus oral espontÉneo\\\\estilos.css'},\n",
       " {'nome': 'pf0173pu.htm',\n",
       "  'diretorio': './CRPC sub-corpus oral espontÉneo\\\\pf0173pu.htm'},\n",
       " {'nome': 'pf1020pu.htm',\n",
       "  'diretorio': './CRPC sub-corpus oral espontÉneo\\\\pf1020pu.htm'},\n",
       " {'nome': 'pf0356pu.htm',\n",
       "  'diretorio': './CRPC sub-corpus oral espontÉneo\\\\pf0356pu.htm'}]"
      ]
     },
     "execution_count": 19,
     "metadata": {},
     "output_type": "execute_result"
    }
   ],
   "source": [
    "saida = []\n",
    "for i in retorno:\n",
    " saida.append(Json(i))\n",
    "\n",
    "saida"
   ]
  }
 ],
 "metadata": {
  "kernelspec": {
   "display_name": "Python 3.10.6 64-bit",
   "language": "python",
   "name": "python3"
  },
  "language_info": {
   "codemirror_mode": {
    "name": "ipython",
    "version": 3
   },
   "file_extension": ".py",
   "mimetype": "text/x-python",
   "name": "python",
   "nbconvert_exporter": "python",
   "pygments_lexer": "ipython3",
   "version": "3.10.6"
  },
  "vscode": {
   "interpreter": {
    "hash": "369f2c481f4da34e4445cda3fffd2e751bd1c4d706f27375911949ba6bb62e1c"
   }
  }
 },
 "nbformat": 4,
 "nbformat_minor": 0
}
